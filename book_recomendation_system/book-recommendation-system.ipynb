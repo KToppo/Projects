{
 "cells": [
  {
   "cell_type": "markdown",
   "id": "eba0d0da-7c43-4be9-a145-7ed60f89b2eb",
   "metadata": {},
   "source": [
    "# Recommender System\n",
    "    1) Popularty bases recomandation (generaly based on formula)\n",
    "    2) Content bases Recommandation \n",
    "    3) Collaborative based Recommendation\n",
    "    4) Hibread based Recomandation"
   ]
  },
  {
   "cell_type": "code",
   "execution_count": 1,
   "id": "44a84ec1-0cbb-480c-b76b-367ad87f7f36",
   "metadata": {},
   "outputs": [],
   "source": [
    "from kaggle_handler import handler\n",
    "import pandas as pd\n",
    "import numpy as np"
   ]
  },
  {
   "cell_type": "code",
   "execution_count": 2,
   "id": "999d9bfe-0d5a-4951-a3a4-f1a97599178d",
   "metadata": {},
   "outputs": [],
   "source": [
    "from sklearn.metrics.pairwise import cosine_similarity"
   ]
  },
  {
   "cell_type": "code",
   "execution_count": 3,
   "id": "55f003db-257e-4e25-b0eb-ede1a4017f0b",
   "metadata": {},
   "outputs": [],
   "source": [
    "import pickle"
   ]
  },
  {
   "cell_type": "code",
   "execution_count": 4,
   "id": "b90a2f76-761b-447b-8487-1b9a8ae733af",
   "metadata": {},
   "outputs": [
    {
     "name": "stdout",
     "output_type": "stream",
     "text": [
      "Directory 'Assets' already exists.\n",
      "Datasets already exist in Assets folder\n",
      "['DeepRec.png', 'Users.csv', 'recsys_taxonomy2.png', 'Books.csv', 'Ratings.csv', 'classicRec.png']\n",
      " Change Add_more parameter to download more datasets\n"
     ]
    }
   ],
   "source": [
    "Assets = handler(\"arashnic/book-recommendation-dataset\")"
   ]
  },
  {
   "cell_type": "code",
   "execution_count": 5,
   "id": "e1caff58-abad-4553-8aef-c7c223d5e69e",
   "metadata": {},
   "outputs": [
    {
     "data": {
      "text/plain": [
       "['DeepRec.png',\n",
       " 'Users.csv',\n",
       " 'recsys_taxonomy2.png',\n",
       " 'Books.csv',\n",
       " 'Ratings.csv',\n",
       " 'classicRec.png']"
      ]
     },
     "execution_count": 5,
     "metadata": {},
     "output_type": "execute_result"
    }
   ],
   "source": [
    "Assets"
   ]
  },
  {
   "cell_type": "code",
   "execution_count": 6,
   "id": "27f02984-50be-41c2-a23b-bcc8c963ef24",
   "metadata": {},
   "outputs": [
    {
     "name": "stderr",
     "output_type": "stream",
     "text": [
      "/tmp/ipykernel_106250/3435027196.py:1: DtypeWarning: Columns (3) have mixed types. Specify dtype option on import or set low_memory=False.\n",
      "  book = pd.read_csv('Assets/Books.csv')\n"
     ]
    }
   ],
   "source": [
    "book = pd.read_csv('Assets/Books.csv')\n",
    "users = pd.read_csv('Assets/Users.csv')\n",
    "ratings = pd.read_csv('Assets/Ratings.csv')"
   ]
  },
  {
   "cell_type": "code",
   "execution_count": 7,
   "id": "1b3e6e36-0806-4204-9869-ad373772caaa",
   "metadata": {},
   "outputs": [
    {
     "data": {
      "text/html": [
       "<div>\n",
       "<style scoped>\n",
       "    .dataframe tbody tr th:only-of-type {\n",
       "        vertical-align: middle;\n",
       "    }\n",
       "\n",
       "    .dataframe tbody tr th {\n",
       "        vertical-align: top;\n",
       "    }\n",
       "\n",
       "    .dataframe thead th {\n",
       "        text-align: right;\n",
       "    }\n",
       "</style>\n",
       "<table border=\"1\" class=\"dataframe\">\n",
       "  <thead>\n",
       "    <tr style=\"text-align: right;\">\n",
       "      <th></th>\n",
       "      <th>ISBN</th>\n",
       "      <th>Book-Title</th>\n",
       "      <th>Book-Author</th>\n",
       "      <th>Year-Of-Publication</th>\n",
       "      <th>Publisher</th>\n",
       "      <th>Image-URL-S</th>\n",
       "      <th>Image-URL-M</th>\n",
       "      <th>Image-URL-L</th>\n",
       "    </tr>\n",
       "  </thead>\n",
       "  <tbody>\n",
       "    <tr>\n",
       "      <th>0</th>\n",
       "      <td>0195153448</td>\n",
       "      <td>Classical Mythology</td>\n",
       "      <td>Mark P. O. Morford</td>\n",
       "      <td>2002</td>\n",
       "      <td>Oxford University Press</td>\n",
       "      <td>http://images.amazon.com/images/P/0195153448.0...</td>\n",
       "      <td>http://images.amazon.com/images/P/0195153448.0...</td>\n",
       "      <td>http://images.amazon.com/images/P/0195153448.0...</td>\n",
       "    </tr>\n",
       "    <tr>\n",
       "      <th>1</th>\n",
       "      <td>0002005018</td>\n",
       "      <td>Clara Callan</td>\n",
       "      <td>Richard Bruce Wright</td>\n",
       "      <td>2001</td>\n",
       "      <td>HarperFlamingo Canada</td>\n",
       "      <td>http://images.amazon.com/images/P/0002005018.0...</td>\n",
       "      <td>http://images.amazon.com/images/P/0002005018.0...</td>\n",
       "      <td>http://images.amazon.com/images/P/0002005018.0...</td>\n",
       "    </tr>\n",
       "  </tbody>\n",
       "</table>\n",
       "</div>"
      ],
      "text/plain": [
       "         ISBN           Book-Title           Book-Author Year-Of-Publication  \\\n",
       "0  0195153448  Classical Mythology    Mark P. O. Morford                2002   \n",
       "1  0002005018         Clara Callan  Richard Bruce Wright                2001   \n",
       "\n",
       "                 Publisher                                        Image-URL-S  \\\n",
       "0  Oxford University Press  http://images.amazon.com/images/P/0195153448.0...   \n",
       "1    HarperFlamingo Canada  http://images.amazon.com/images/P/0002005018.0...   \n",
       "\n",
       "                                         Image-URL-M  \\\n",
       "0  http://images.amazon.com/images/P/0195153448.0...   \n",
       "1  http://images.amazon.com/images/P/0002005018.0...   \n",
       "\n",
       "                                         Image-URL-L  \n",
       "0  http://images.amazon.com/images/P/0195153448.0...  \n",
       "1  http://images.amazon.com/images/P/0002005018.0...  "
      ]
     },
     "execution_count": 7,
     "metadata": {},
     "output_type": "execute_result"
    }
   ],
   "source": [
    "book.head(2)"
   ]
  },
  {
   "cell_type": "code",
   "execution_count": 8,
   "id": "2ab1ed9b-5982-4b34-97bd-255c25a3cabb",
   "metadata": {},
   "outputs": [
    {
     "data": {
      "text/html": [
       "<div>\n",
       "<style scoped>\n",
       "    .dataframe tbody tr th:only-of-type {\n",
       "        vertical-align: middle;\n",
       "    }\n",
       "\n",
       "    .dataframe tbody tr th {\n",
       "        vertical-align: top;\n",
       "    }\n",
       "\n",
       "    .dataframe thead th {\n",
       "        text-align: right;\n",
       "    }\n",
       "</style>\n",
       "<table border=\"1\" class=\"dataframe\">\n",
       "  <thead>\n",
       "    <tr style=\"text-align: right;\">\n",
       "      <th></th>\n",
       "      <th>User-ID</th>\n",
       "      <th>Location</th>\n",
       "      <th>Age</th>\n",
       "    </tr>\n",
       "  </thead>\n",
       "  <tbody>\n",
       "    <tr>\n",
       "      <th>0</th>\n",
       "      <td>1</td>\n",
       "      <td>nyc, new york, usa</td>\n",
       "      <td>NaN</td>\n",
       "    </tr>\n",
       "    <tr>\n",
       "      <th>1</th>\n",
       "      <td>2</td>\n",
       "      <td>stockton, california, usa</td>\n",
       "      <td>18.0</td>\n",
       "    </tr>\n",
       "  </tbody>\n",
       "</table>\n",
       "</div>"
      ],
      "text/plain": [
       "   User-ID                   Location   Age\n",
       "0        1         nyc, new york, usa   NaN\n",
       "1        2  stockton, california, usa  18.0"
      ]
     },
     "execution_count": 8,
     "metadata": {},
     "output_type": "execute_result"
    }
   ],
   "source": [
    "users.head(2)"
   ]
  },
  {
   "cell_type": "code",
   "execution_count": 9,
   "id": "36b553a5-cc1d-4148-b52c-7fe33114b7b3",
   "metadata": {},
   "outputs": [
    {
     "data": {
      "text/html": [
       "<div>\n",
       "<style scoped>\n",
       "    .dataframe tbody tr th:only-of-type {\n",
       "        vertical-align: middle;\n",
       "    }\n",
       "\n",
       "    .dataframe tbody tr th {\n",
       "        vertical-align: top;\n",
       "    }\n",
       "\n",
       "    .dataframe thead th {\n",
       "        text-align: right;\n",
       "    }\n",
       "</style>\n",
       "<table border=\"1\" class=\"dataframe\">\n",
       "  <thead>\n",
       "    <tr style=\"text-align: right;\">\n",
       "      <th></th>\n",
       "      <th>User-ID</th>\n",
       "      <th>ISBN</th>\n",
       "      <th>Book-Rating</th>\n",
       "    </tr>\n",
       "  </thead>\n",
       "  <tbody>\n",
       "    <tr>\n",
       "      <th>0</th>\n",
       "      <td>276725</td>\n",
       "      <td>034545104X</td>\n",
       "      <td>0</td>\n",
       "    </tr>\n",
       "    <tr>\n",
       "      <th>1</th>\n",
       "      <td>276726</td>\n",
       "      <td>0155061224</td>\n",
       "      <td>5</td>\n",
       "    </tr>\n",
       "  </tbody>\n",
       "</table>\n",
       "</div>"
      ],
      "text/plain": [
       "   User-ID        ISBN  Book-Rating\n",
       "0   276725  034545104X            0\n",
       "1   276726  0155061224            5"
      ]
     },
     "execution_count": 9,
     "metadata": {},
     "output_type": "execute_result"
    }
   ],
   "source": [
    "ratings.head(2)"
   ]
  },
  {
   "cell_type": "code",
   "execution_count": 10,
   "id": "83895fe6-7819-4282-9e2b-a78625e2d764",
   "metadata": {},
   "outputs": [
    {
     "name": "stdout",
     "output_type": "stream",
     "text": [
      "(271360, 8)\n",
      "(278858, 3)\n",
      "(1149780, 3)\n"
     ]
    }
   ],
   "source": [
    "print(book.shape)\n",
    "print(users.shape)\n",
    "print(ratings.shape)"
   ]
  },
  {
   "cell_type": "code",
   "execution_count": 11,
   "id": "a815f640-0e08-4824-b3f7-298998c19213",
   "metadata": {},
   "outputs": [
    {
     "data": {
      "text/plain": [
       "ISBN                   0\n",
       "Book-Title             0\n",
       "Book-Author            2\n",
       "Year-Of-Publication    0\n",
       "Publisher              2\n",
       "Image-URL-S            0\n",
       "Image-URL-M            0\n",
       "Image-URL-L            3\n",
       "dtype: int64"
      ]
     },
     "execution_count": 11,
     "metadata": {},
     "output_type": "execute_result"
    }
   ],
   "source": [
    "book.isnull().sum()"
   ]
  },
  {
   "cell_type": "code",
   "execution_count": 12,
   "id": "84d8a86c-42be-4841-af67-0521ff3ede13",
   "metadata": {},
   "outputs": [
    {
     "data": {
      "text/plain": [
       "User-ID          0\n",
       "Location         0\n",
       "Age         110762\n",
       "dtype: int64"
      ]
     },
     "execution_count": 12,
     "metadata": {},
     "output_type": "execute_result"
    }
   ],
   "source": [
    "users.isnull().sum()"
   ]
  },
  {
   "cell_type": "code",
   "execution_count": 13,
   "id": "2f97a058-7fca-43bf-9177-d085e6cfb982",
   "metadata": {},
   "outputs": [
    {
     "data": {
      "text/plain": [
       "User-ID        0\n",
       "ISBN           0\n",
       "Book-Rating    0\n",
       "dtype: int64"
      ]
     },
     "execution_count": 13,
     "metadata": {},
     "output_type": "execute_result"
    }
   ],
   "source": [
    "ratings.isnull().sum()"
   ]
  },
  {
   "cell_type": "code",
   "execution_count": 14,
   "id": "44f44aef-2d3d-42b2-a4d0-e88a7251d6f6",
   "metadata": {},
   "outputs": [
    {
     "data": {
      "text/plain": [
       "np.int64(0)"
      ]
     },
     "execution_count": 14,
     "metadata": {},
     "output_type": "execute_result"
    }
   ],
   "source": [
    "book.duplicated().sum()"
   ]
  },
  {
   "cell_type": "code",
   "execution_count": 15,
   "id": "6b43d3b4-d048-4b4a-a7b0-a6343704f04b",
   "metadata": {},
   "outputs": [
    {
     "data": {
      "text/plain": [
       "np.int64(0)"
      ]
     },
     "execution_count": 15,
     "metadata": {},
     "output_type": "execute_result"
    }
   ],
   "source": [
    "users.duplicated().sum()"
   ]
  },
  {
   "cell_type": "code",
   "execution_count": 16,
   "id": "5ce277bd-18ab-48cf-91c6-c1758f7fcef9",
   "metadata": {},
   "outputs": [
    {
     "data": {
      "text/plain": [
       "np.int64(0)"
      ]
     },
     "execution_count": 16,
     "metadata": {},
     "output_type": "execute_result"
    }
   ],
   "source": [
    "ratings.duplicated().sum()"
   ]
  },
  {
   "cell_type": "markdown",
   "id": "f583c017-704b-4aea-bbe8-c343ac295444",
   "metadata": {},
   "source": [
    "## Popularity Based Recommender System\n",
    "    - Top 50 books\n",
    "    - Have more then 250 votes"
   ]
  },
  {
   "cell_type": "code",
   "execution_count": 17,
   "id": "a2a1861b-7ace-4026-8324-b2d2a69711c4",
   "metadata": {},
   "outputs": [
    {
     "data": {
      "text/plain": [
       "(1031136, 10)"
      ]
     },
     "execution_count": 17,
     "metadata": {},
     "output_type": "execute_result"
    }
   ],
   "source": [
    "ratings_with_name = ratings.merge(book, on='ISBN')\n",
    "ratings_with_name.shape"
   ]
  },
  {
   "cell_type": "code",
   "execution_count": 18,
   "id": "5fdc7345-a98c-4942-b1ad-bba1d5fad31f",
   "metadata": {},
   "outputs": [
    {
     "data": {
      "text/html": [
       "<div>\n",
       "<style scoped>\n",
       "    .dataframe tbody tr th:only-of-type {\n",
       "        vertical-align: middle;\n",
       "    }\n",
       "\n",
       "    .dataframe tbody tr th {\n",
       "        vertical-align: top;\n",
       "    }\n",
       "\n",
       "    .dataframe thead th {\n",
       "        text-align: right;\n",
       "    }\n",
       "</style>\n",
       "<table border=\"1\" class=\"dataframe\">\n",
       "  <thead>\n",
       "    <tr style=\"text-align: right;\">\n",
       "      <th></th>\n",
       "      <th>User-ID</th>\n",
       "      <th>ISBN</th>\n",
       "      <th>Book-Rating</th>\n",
       "      <th>Book-Title</th>\n",
       "      <th>Book-Author</th>\n",
       "      <th>Year-Of-Publication</th>\n",
       "      <th>Publisher</th>\n",
       "      <th>Image-URL-S</th>\n",
       "      <th>Image-URL-M</th>\n",
       "      <th>Image-URL-L</th>\n",
       "    </tr>\n",
       "  </thead>\n",
       "  <tbody>\n",
       "    <tr>\n",
       "      <th>0</th>\n",
       "      <td>276725</td>\n",
       "      <td>034545104X</td>\n",
       "      <td>0</td>\n",
       "      <td>Flesh Tones: A Novel</td>\n",
       "      <td>M. J. Rose</td>\n",
       "      <td>2002</td>\n",
       "      <td>Ballantine Books</td>\n",
       "      <td>http://images.amazon.com/images/P/034545104X.0...</td>\n",
       "      <td>http://images.amazon.com/images/P/034545104X.0...</td>\n",
       "      <td>http://images.amazon.com/images/P/034545104X.0...</td>\n",
       "    </tr>\n",
       "    <tr>\n",
       "      <th>1</th>\n",
       "      <td>276726</td>\n",
       "      <td>0155061224</td>\n",
       "      <td>5</td>\n",
       "      <td>Rites of Passage</td>\n",
       "      <td>Judith Rae</td>\n",
       "      <td>2001</td>\n",
       "      <td>Heinle</td>\n",
       "      <td>http://images.amazon.com/images/P/0155061224.0...</td>\n",
       "      <td>http://images.amazon.com/images/P/0155061224.0...</td>\n",
       "      <td>http://images.amazon.com/images/P/0155061224.0...</td>\n",
       "    </tr>\n",
       "  </tbody>\n",
       "</table>\n",
       "</div>"
      ],
      "text/plain": [
       "   User-ID        ISBN  Book-Rating            Book-Title Book-Author  \\\n",
       "0   276725  034545104X            0  Flesh Tones: A Novel  M. J. Rose   \n",
       "1   276726  0155061224            5      Rites of Passage  Judith Rae   \n",
       "\n",
       "  Year-Of-Publication         Publisher  \\\n",
       "0                2002  Ballantine Books   \n",
       "1                2001            Heinle   \n",
       "\n",
       "                                         Image-URL-S  \\\n",
       "0  http://images.amazon.com/images/P/034545104X.0...   \n",
       "1  http://images.amazon.com/images/P/0155061224.0...   \n",
       "\n",
       "                                         Image-URL-M  \\\n",
       "0  http://images.amazon.com/images/P/034545104X.0...   \n",
       "1  http://images.amazon.com/images/P/0155061224.0...   \n",
       "\n",
       "                                         Image-URL-L  \n",
       "0  http://images.amazon.com/images/P/034545104X.0...  \n",
       "1  http://images.amazon.com/images/P/0155061224.0...  "
      ]
     },
     "execution_count": 18,
     "metadata": {},
     "output_type": "execute_result"
    }
   ],
   "source": [
    "ratings_with_name.head(2)"
   ]
  },
  {
   "cell_type": "code",
   "execution_count": 19,
   "id": "0d51d1db-9f5d-422b-87d7-cc62f916b118",
   "metadata": {},
   "outputs": [
    {
     "data": {
      "text/html": [
       "<div>\n",
       "<style scoped>\n",
       "    .dataframe tbody tr th:only-of-type {\n",
       "        vertical-align: middle;\n",
       "    }\n",
       "\n",
       "    .dataframe tbody tr th {\n",
       "        vertical-align: top;\n",
       "    }\n",
       "\n",
       "    .dataframe thead th {\n",
       "        text-align: right;\n",
       "    }\n",
       "</style>\n",
       "<table border=\"1\" class=\"dataframe\">\n",
       "  <thead>\n",
       "    <tr style=\"text-align: right;\">\n",
       "      <th></th>\n",
       "      <th>Book-Title</th>\n",
       "      <th>num_ratings</th>\n",
       "    </tr>\n",
       "  </thead>\n",
       "  <tbody>\n",
       "    <tr>\n",
       "      <th>0</th>\n",
       "      <td>A Light in the Storm: The Civil War Diary of ...</td>\n",
       "      <td>4</td>\n",
       "    </tr>\n",
       "    <tr>\n",
       "      <th>1</th>\n",
       "      <td>Always Have Popsicles</td>\n",
       "      <td>1</td>\n",
       "    </tr>\n",
       "  </tbody>\n",
       "</table>\n",
       "</div>"
      ],
      "text/plain": [
       "                                          Book-Title  num_ratings\n",
       "0   A Light in the Storm: The Civil War Diary of ...            4\n",
       "1                              Always Have Popsicles            1"
      ]
     },
     "execution_count": 19,
     "metadata": {},
     "output_type": "execute_result"
    }
   ],
   "source": [
    "num_rating_df = ratings_with_name.groupby('Book-Title')['Book-Rating'].count().reset_index()\n",
    "num_rating_df.rename(columns={'Book-Rating':'num_ratings'},inplace=True)\n",
    "num_rating_df.head(2)"
   ]
  },
  {
   "cell_type": "code",
   "execution_count": 20,
   "id": "1b3e7137-888a-444c-8de6-e6f46cb81ad4",
   "metadata": {},
   "outputs": [
    {
     "data": {
      "text/html": [
       "<div>\n",
       "<style scoped>\n",
       "    .dataframe tbody tr th:only-of-type {\n",
       "        vertical-align: middle;\n",
       "    }\n",
       "\n",
       "    .dataframe tbody tr th {\n",
       "        vertical-align: top;\n",
       "    }\n",
       "\n",
       "    .dataframe thead th {\n",
       "        text-align: right;\n",
       "    }\n",
       "</style>\n",
       "<table border=\"1\" class=\"dataframe\">\n",
       "  <thead>\n",
       "    <tr style=\"text-align: right;\">\n",
       "      <th></th>\n",
       "      <th>Book-Title</th>\n",
       "      <th>avg_ratings</th>\n",
       "    </tr>\n",
       "  </thead>\n",
       "  <tbody>\n",
       "    <tr>\n",
       "      <th>0</th>\n",
       "      <td>A Light in the Storm: The Civil War Diary of ...</td>\n",
       "      <td>2.25</td>\n",
       "    </tr>\n",
       "    <tr>\n",
       "      <th>1</th>\n",
       "      <td>Always Have Popsicles</td>\n",
       "      <td>0.00</td>\n",
       "    </tr>\n",
       "  </tbody>\n",
       "</table>\n",
       "</div>"
      ],
      "text/plain": [
       "                                          Book-Title  avg_ratings\n",
       "0   A Light in the Storm: The Civil War Diary of ...         2.25\n",
       "1                              Always Have Popsicles         0.00"
      ]
     },
     "execution_count": 20,
     "metadata": {},
     "output_type": "execute_result"
    }
   ],
   "source": [
    "avg_rating_df = ratings_with_name.groupby('Book-Title')['Book-Rating'].mean().reset_index()\n",
    "avg_rating_df.rename(columns={'Book-Rating':'avg_ratings'},inplace=True)\n",
    "avg_rating_df.head(2)"
   ]
  },
  {
   "cell_type": "code",
   "execution_count": 21,
   "id": "1088c151-936c-4764-bae8-d37fe93f6a41",
   "metadata": {},
   "outputs": [
    {
     "data": {
      "text/html": [
       "<div>\n",
       "<style scoped>\n",
       "    .dataframe tbody tr th:only-of-type {\n",
       "        vertical-align: middle;\n",
       "    }\n",
       "\n",
       "    .dataframe tbody tr th {\n",
       "        vertical-align: top;\n",
       "    }\n",
       "\n",
       "    .dataframe thead th {\n",
       "        text-align: right;\n",
       "    }\n",
       "</style>\n",
       "<table border=\"1\" class=\"dataframe\">\n",
       "  <thead>\n",
       "    <tr style=\"text-align: right;\">\n",
       "      <th></th>\n",
       "      <th>Book-Title</th>\n",
       "      <th>num_ratings</th>\n",
       "      <th>avg_ratings</th>\n",
       "    </tr>\n",
       "  </thead>\n",
       "  <tbody>\n",
       "    <tr>\n",
       "      <th>0</th>\n",
       "      <td>A Light in the Storm: The Civil War Diary of ...</td>\n",
       "      <td>4</td>\n",
       "      <td>2.25</td>\n",
       "    </tr>\n",
       "    <tr>\n",
       "      <th>1</th>\n",
       "      <td>Always Have Popsicles</td>\n",
       "      <td>1</td>\n",
       "      <td>0.00</td>\n",
       "    </tr>\n",
       "  </tbody>\n",
       "</table>\n",
       "</div>"
      ],
      "text/plain": [
       "                                          Book-Title  num_ratings  avg_ratings\n",
       "0   A Light in the Storm: The Civil War Diary of ...            4         2.25\n",
       "1                              Always Have Popsicles            1         0.00"
      ]
     },
     "execution_count": 21,
     "metadata": {},
     "output_type": "execute_result"
    }
   ],
   "source": [
    "popular_df = num_rating_df.merge(avg_rating_df,on='Book-Title')\n",
    "popular_df.head(2)"
   ]
  },
  {
   "cell_type": "code",
   "execution_count": 22,
   "id": "636a30bf-5f07-42c0-8642-56b0737ab66f",
   "metadata": {},
   "outputs": [],
   "source": [
    "popular_df = popular_df[popular_df['num_ratings']>=250].sort_values('avg_ratings', ascending=False).head(50)"
   ]
  },
  {
   "cell_type": "code",
   "execution_count": 23,
   "id": "c90c524a-a4ab-4186-821a-c85718494bc3",
   "metadata": {},
   "outputs": [],
   "source": [
    "popular_df = popular_df.merge(book, on='Book-Title').drop_duplicates('Book-Title')[['Book-Title','Book-Author','Image-URL-M','num_ratings','avg_ratings']]"
   ]
  },
  {
   "cell_type": "code",
   "execution_count": 24,
   "id": "6681f733-cf8b-4933-843d-bbf9855cdc6c",
   "metadata": {},
   "outputs": [
    {
     "data": {
      "text/html": [
       "<div>\n",
       "<style scoped>\n",
       "    .dataframe tbody tr th:only-of-type {\n",
       "        vertical-align: middle;\n",
       "    }\n",
       "\n",
       "    .dataframe tbody tr th {\n",
       "        vertical-align: top;\n",
       "    }\n",
       "\n",
       "    .dataframe thead th {\n",
       "        text-align: right;\n",
       "    }\n",
       "</style>\n",
       "<table border=\"1\" class=\"dataframe\">\n",
       "  <thead>\n",
       "    <tr style=\"text-align: right;\">\n",
       "      <th></th>\n",
       "      <th>Book-Title</th>\n",
       "      <th>Book-Author</th>\n",
       "      <th>Image-URL-M</th>\n",
       "      <th>num_ratings</th>\n",
       "      <th>avg_ratings</th>\n",
       "    </tr>\n",
       "  </thead>\n",
       "  <tbody>\n",
       "    <tr>\n",
       "      <th>0</th>\n",
       "      <td>Harry Potter and the Prisoner of Azkaban (Book 3)</td>\n",
       "      <td>J. K. Rowling</td>\n",
       "      <td>http://images.amazon.com/images/P/0439136350.0...</td>\n",
       "      <td>428</td>\n",
       "      <td>5.852804</td>\n",
       "    </tr>\n",
       "    <tr>\n",
       "      <th>3</th>\n",
       "      <td>Harry Potter and the Goblet of Fire (Book 4)</td>\n",
       "      <td>J. K. Rowling</td>\n",
       "      <td>http://images.amazon.com/images/P/0439139597.0...</td>\n",
       "      <td>387</td>\n",
       "      <td>5.824289</td>\n",
       "    </tr>\n",
       "    <tr>\n",
       "      <th>5</th>\n",
       "      <td>Harry Potter and the Sorcerer's Stone (Book 1)</td>\n",
       "      <td>J. K. Rowling</td>\n",
       "      <td>http://images.amazon.com/images/P/0590353403.0...</td>\n",
       "      <td>278</td>\n",
       "      <td>5.737410</td>\n",
       "    </tr>\n",
       "    <tr>\n",
       "      <th>9</th>\n",
       "      <td>Harry Potter and the Order of the Phoenix (Boo...</td>\n",
       "      <td>J. K. Rowling</td>\n",
       "      <td>http://images.amazon.com/images/P/043935806X.0...</td>\n",
       "      <td>347</td>\n",
       "      <td>5.501441</td>\n",
       "    </tr>\n",
       "    <tr>\n",
       "      <th>13</th>\n",
       "      <td>Harry Potter and the Chamber of Secrets (Book 2)</td>\n",
       "      <td>J. K. Rowling</td>\n",
       "      <td>http://images.amazon.com/images/P/0439064872.0...</td>\n",
       "      <td>556</td>\n",
       "      <td>5.183453</td>\n",
       "    </tr>\n",
       "  </tbody>\n",
       "</table>\n",
       "</div>"
      ],
      "text/plain": [
       "                                           Book-Title    Book-Author  \\\n",
       "0   Harry Potter and the Prisoner of Azkaban (Book 3)  J. K. Rowling   \n",
       "3        Harry Potter and the Goblet of Fire (Book 4)  J. K. Rowling   \n",
       "5      Harry Potter and the Sorcerer's Stone (Book 1)  J. K. Rowling   \n",
       "9   Harry Potter and the Order of the Phoenix (Boo...  J. K. Rowling   \n",
       "13   Harry Potter and the Chamber of Secrets (Book 2)  J. K. Rowling   \n",
       "\n",
       "                                          Image-URL-M  num_ratings  \\\n",
       "0   http://images.amazon.com/images/P/0439136350.0...          428   \n",
       "3   http://images.amazon.com/images/P/0439139597.0...          387   \n",
       "5   http://images.amazon.com/images/P/0590353403.0...          278   \n",
       "9   http://images.amazon.com/images/P/043935806X.0...          347   \n",
       "13  http://images.amazon.com/images/P/0439064872.0...          556   \n",
       "\n",
       "    avg_ratings  \n",
       "0      5.852804  \n",
       "3      5.824289  \n",
       "5      5.737410  \n",
       "9      5.501441  \n",
       "13     5.183453  "
      ]
     },
     "execution_count": 24,
     "metadata": {},
     "output_type": "execute_result"
    }
   ],
   "source": [
    "popular_df.head(5)"
   ]
  },
  {
   "cell_type": "code",
   "execution_count": 25,
   "id": "eee6734f-6cf5-417a-be89-21cbf047fcea",
   "metadata": {},
   "outputs": [],
   "source": [
    "pickle.dump(popular_df,open('top50books.pkl', 'wb'))"
   ]
  },
  {
   "cell_type": "markdown",
   "id": "6a134510-72ab-49dd-9ff1-253c8a5e03c3",
   "metadata": {},
   "source": [
    "## Collaborative Filtering Recommender\n",
    "    - Recommendation system bases on ever user rating\n",
    "    - users > 200 && books >= 50"
   ]
  },
  {
   "cell_type": "code",
   "execution_count": 26,
   "id": "a99a8730-6457-412c-b821-48721d918299",
   "metadata": {},
   "outputs": [
    {
     "data": {
      "text/html": [
       "<div>\n",
       "<style scoped>\n",
       "    .dataframe tbody tr th:only-of-type {\n",
       "        vertical-align: middle;\n",
       "    }\n",
       "\n",
       "    .dataframe tbody tr th {\n",
       "        vertical-align: top;\n",
       "    }\n",
       "\n",
       "    .dataframe thead th {\n",
       "        text-align: right;\n",
       "    }\n",
       "</style>\n",
       "<table border=\"1\" class=\"dataframe\">\n",
       "  <thead>\n",
       "    <tr style=\"text-align: right;\">\n",
       "      <th></th>\n",
       "      <th>User-ID</th>\n",
       "      <th>ISBN</th>\n",
       "      <th>Book-Rating</th>\n",
       "      <th>Book-Title</th>\n",
       "      <th>Book-Author</th>\n",
       "      <th>Year-Of-Publication</th>\n",
       "      <th>Publisher</th>\n",
       "      <th>Image-URL-S</th>\n",
       "      <th>Image-URL-M</th>\n",
       "      <th>Image-URL-L</th>\n",
       "    </tr>\n",
       "  </thead>\n",
       "  <tbody>\n",
       "    <tr>\n",
       "      <th>0</th>\n",
       "      <td>276725</td>\n",
       "      <td>034545104X</td>\n",
       "      <td>0</td>\n",
       "      <td>Flesh Tones: A Novel</td>\n",
       "      <td>M. J. Rose</td>\n",
       "      <td>2002</td>\n",
       "      <td>Ballantine Books</td>\n",
       "      <td>http://images.amazon.com/images/P/034545104X.0...</td>\n",
       "      <td>http://images.amazon.com/images/P/034545104X.0...</td>\n",
       "      <td>http://images.amazon.com/images/P/034545104X.0...</td>\n",
       "    </tr>\n",
       "    <tr>\n",
       "      <th>1</th>\n",
       "      <td>276726</td>\n",
       "      <td>0155061224</td>\n",
       "      <td>5</td>\n",
       "      <td>Rites of Passage</td>\n",
       "      <td>Judith Rae</td>\n",
       "      <td>2001</td>\n",
       "      <td>Heinle</td>\n",
       "      <td>http://images.amazon.com/images/P/0155061224.0...</td>\n",
       "      <td>http://images.amazon.com/images/P/0155061224.0...</td>\n",
       "      <td>http://images.amazon.com/images/P/0155061224.0...</td>\n",
       "    </tr>\n",
       "    <tr>\n",
       "      <th>2</th>\n",
       "      <td>276727</td>\n",
       "      <td>0446520802</td>\n",
       "      <td>0</td>\n",
       "      <td>The Notebook</td>\n",
       "      <td>Nicholas Sparks</td>\n",
       "      <td>1996</td>\n",
       "      <td>Warner Books</td>\n",
       "      <td>http://images.amazon.com/images/P/0446520802.0...</td>\n",
       "      <td>http://images.amazon.com/images/P/0446520802.0...</td>\n",
       "      <td>http://images.amazon.com/images/P/0446520802.0...</td>\n",
       "    </tr>\n",
       "    <tr>\n",
       "      <th>3</th>\n",
       "      <td>276729</td>\n",
       "      <td>052165615X</td>\n",
       "      <td>3</td>\n",
       "      <td>Help!: Level 1</td>\n",
       "      <td>Philip Prowse</td>\n",
       "      <td>1999</td>\n",
       "      <td>Cambridge University Press</td>\n",
       "      <td>http://images.amazon.com/images/P/052165615X.0...</td>\n",
       "      <td>http://images.amazon.com/images/P/052165615X.0...</td>\n",
       "      <td>http://images.amazon.com/images/P/052165615X.0...</td>\n",
       "    </tr>\n",
       "    <tr>\n",
       "      <th>4</th>\n",
       "      <td>276729</td>\n",
       "      <td>0521795028</td>\n",
       "      <td>6</td>\n",
       "      <td>The Amsterdam Connection : Level 4 (Cambridge ...</td>\n",
       "      <td>Sue Leather</td>\n",
       "      <td>2001</td>\n",
       "      <td>Cambridge University Press</td>\n",
       "      <td>http://images.amazon.com/images/P/0521795028.0...</td>\n",
       "      <td>http://images.amazon.com/images/P/0521795028.0...</td>\n",
       "      <td>http://images.amazon.com/images/P/0521795028.0...</td>\n",
       "    </tr>\n",
       "  </tbody>\n",
       "</table>\n",
       "</div>"
      ],
      "text/plain": [
       "   User-ID        ISBN  Book-Rating  \\\n",
       "0   276725  034545104X            0   \n",
       "1   276726  0155061224            5   \n",
       "2   276727  0446520802            0   \n",
       "3   276729  052165615X            3   \n",
       "4   276729  0521795028            6   \n",
       "\n",
       "                                          Book-Title      Book-Author  \\\n",
       "0                               Flesh Tones: A Novel       M. J. Rose   \n",
       "1                                   Rites of Passage       Judith Rae   \n",
       "2                                       The Notebook  Nicholas Sparks   \n",
       "3                                     Help!: Level 1    Philip Prowse   \n",
       "4  The Amsterdam Connection : Level 4 (Cambridge ...      Sue Leather   \n",
       "\n",
       "  Year-Of-Publication                   Publisher  \\\n",
       "0                2002            Ballantine Books   \n",
       "1                2001                      Heinle   \n",
       "2                1996                Warner Books   \n",
       "3                1999  Cambridge University Press   \n",
       "4                2001  Cambridge University Press   \n",
       "\n",
       "                                         Image-URL-S  \\\n",
       "0  http://images.amazon.com/images/P/034545104X.0...   \n",
       "1  http://images.amazon.com/images/P/0155061224.0...   \n",
       "2  http://images.amazon.com/images/P/0446520802.0...   \n",
       "3  http://images.amazon.com/images/P/052165615X.0...   \n",
       "4  http://images.amazon.com/images/P/0521795028.0...   \n",
       "\n",
       "                                         Image-URL-M  \\\n",
       "0  http://images.amazon.com/images/P/034545104X.0...   \n",
       "1  http://images.amazon.com/images/P/0155061224.0...   \n",
       "2  http://images.amazon.com/images/P/0446520802.0...   \n",
       "3  http://images.amazon.com/images/P/052165615X.0...   \n",
       "4  http://images.amazon.com/images/P/0521795028.0...   \n",
       "\n",
       "                                         Image-URL-L  \n",
       "0  http://images.amazon.com/images/P/034545104X.0...  \n",
       "1  http://images.amazon.com/images/P/0155061224.0...  \n",
       "2  http://images.amazon.com/images/P/0446520802.0...  \n",
       "3  http://images.amazon.com/images/P/052165615X.0...  \n",
       "4  http://images.amazon.com/images/P/0521795028.0...  "
      ]
     },
     "execution_count": 26,
     "metadata": {},
     "output_type": "execute_result"
    }
   ],
   "source": [
    "ratings_with_name.head(5)"
   ]
  },
  {
   "cell_type": "code",
   "execution_count": 27,
   "id": "8aacd754-cc27-41c5-969d-b4c8f6f67e9a",
   "metadata": {},
   "outputs": [],
   "source": [
    "x = ratings_with_name.groupby('User-ID')['Book-Rating'].count() > 200\n",
    "valid_user = x[x].index"
   ]
  },
  {
   "cell_type": "code",
   "execution_count": 28,
   "id": "9553eb67-bf78-4039-80f4-9f2c7a17c320",
   "metadata": {},
   "outputs": [],
   "source": [
    "filtered_rating = ratings_with_name[ratings_with_name['User-ID'].isin(valid_user)]"
   ]
  },
  {
   "cell_type": "code",
   "execution_count": 29,
   "id": "1ecc8a27-03b1-4f87-b268-1cfcc5076373",
   "metadata": {},
   "outputs": [],
   "source": [
    "y = filtered_rating.groupby('Book-Title')['Book-Rating'].count() >= 50\n",
    "femous_books = y[y].index"
   ]
  },
  {
   "cell_type": "code",
   "execution_count": 30,
   "id": "a7f2dd95-e5b9-49c0-a438-733212141f9e",
   "metadata": {},
   "outputs": [],
   "source": [
    "final_ratings = filtered_rating[filtered_rating['Book-Title'].isin(femous_books)]"
   ]
  },
  {
   "cell_type": "code",
   "execution_count": 31,
   "id": "0ba80338-1cb3-4d29-b8b1-c3aec36f5e59",
   "metadata": {},
   "outputs": [
    {
     "data": {
      "text/plain": [
       "np.int64(0)"
      ]
     },
     "execution_count": 31,
     "metadata": {},
     "output_type": "execute_result"
    }
   ],
   "source": [
    "final_ratings.duplicated().sum()"
   ]
  },
  {
   "cell_type": "code",
   "execution_count": 32,
   "id": "aed4ef50-9185-44d6-a88b-3a22bdc6327e",
   "metadata": {},
   "outputs": [
    {
     "data": {
      "text/plain": [
       "(58586, 10)"
      ]
     },
     "execution_count": 32,
     "metadata": {},
     "output_type": "execute_result"
    }
   ],
   "source": [
    "final_ratings.shape"
   ]
  },
  {
   "cell_type": "code",
   "execution_count": 33,
   "id": "bbfab3d3-2d50-462b-98ea-399311253e72",
   "metadata": {},
   "outputs": [],
   "source": [
    "pt = final_ratings.pivot_table(index='Book-Title', columns='User-ID', values='Book-Rating')"
   ]
  },
  {
   "cell_type": "code",
   "execution_count": 34,
   "id": "a126b721-42f8-4170-96e7-b57330f98ea7",
   "metadata": {},
   "outputs": [],
   "source": [
    "pt.fillna(0, inplace=True)"
   ]
  },
  {
   "cell_type": "code",
   "execution_count": 35,
   "id": "0e5149a3-177d-4a01-8955-80fb929a5e4f",
   "metadata": {},
   "outputs": [
    {
     "data": {
      "text/plain": [
       "(706, 810)"
      ]
     },
     "execution_count": 35,
     "metadata": {},
     "output_type": "execute_result"
    }
   ],
   "source": [
    "pt.shape"
   ]
  },
  {
   "cell_type": "code",
   "execution_count": 36,
   "id": "e8a9a594-99db-4601-8767-4012be6ae6c0",
   "metadata": {},
   "outputs": [],
   "source": [
    "similarity_score = cosine_similarity(pt)"
   ]
  },
  {
   "cell_type": "code",
   "execution_count": 37,
   "id": "deb47f32-fbcd-4284-a031-bf7fd21eeeeb",
   "metadata": {},
   "outputs": [
    {
     "data": {
      "text/plain": [
       "(706, 706)"
      ]
     },
     "execution_count": 37,
     "metadata": {},
     "output_type": "execute_result"
    }
   ],
   "source": [
    "similarity_score.shape"
   ]
  },
  {
   "cell_type": "code",
   "execution_count": 38,
   "id": "e8895537-5e05-44c7-8399-d3809ffc4826",
   "metadata": {},
   "outputs": [
    {
     "data": {
      "text/plain": [
       "np.int64(3)"
      ]
     },
     "execution_count": 38,
     "metadata": {},
     "output_type": "execute_result"
    }
   ],
   "source": [
    "np.where(pt.index=='4 Blondes')[0][0]"
   ]
  },
  {
   "cell_type": "code",
   "execution_count": 39,
   "id": "e7627ba9-13f5-4439-9347-507adcc5026b",
   "metadata": {},
   "outputs": [],
   "source": [
    "def recommend(book_name):\n",
    "    index = np.where(pt.index==book_name)[0][0]\n",
    "    distances = similarity_score[index]\n",
    "    similar_items = sorted(list(enumerate(distances)),key=lambda x:x[1], reverse=True)[1:6]\n",
    "\n",
    "    for i in similar_items:\n",
    "        print(pt.index[i[0]])\n",
    "    # return suggestion"
   ]
  },
  {
   "cell_type": "code",
   "execution_count": 40,
   "id": "dc4279b6-2d7c-4b6a-b97a-3d09b7fa492c",
   "metadata": {},
   "outputs": [
    {
     "name": "stdout",
     "output_type": "stream",
     "text": [
      "A Walk to Remember\n",
      "The Rescue\n",
      "One Door Away from Heaven\n",
      "Toxin\n",
      "The Five People You Meet in Heaven\n"
     ]
    }
   ],
   "source": [
    "recommend('The Notebook')"
   ]
  },
  {
   "cell_type": "code",
   "execution_count": 41,
   "id": "e04d0ec2-dcdc-46c7-8549-08adbd65c55c",
   "metadata": {},
   "outputs": [],
   "source": [
    "book_poster = final_ratings.drop_duplicates(subset=['Book-Title']).reset_index()[['Book-Title', 'Image-URL-M']]"
   ]
  },
  {
   "cell_type": "code",
   "execution_count": 42,
   "id": "2183a881-5c12-4170-9e22-ecbcebdf142b",
   "metadata": {},
   "outputs": [],
   "source": [
    "pickle.dump(pt, open('user_matrix.pkl', 'wb'))\n",
    "pickle.dump(similarity_score, open('similarity.pkl', 'wb'))"
   ]
  },
  {
   "cell_type": "code",
   "execution_count": 43,
   "id": "ca710f8a-e626-4a8d-9064-8b40e3e0bd1f",
   "metadata": {},
   "outputs": [],
   "source": [
    "pickle.dump(book_poster, open('book_poster.pkl', 'wb'))"
   ]
  },
  {
   "cell_type": "code",
   "execution_count": null,
   "id": "367517e0-2fb3-4496-9b27-061073dec4a0",
   "metadata": {},
   "outputs": [],
   "source": []
  }
 ],
 "metadata": {
  "kernelspec": {
   "display_name": "Python 3 (ipykernel)",
   "language": "python",
   "name": "python3"
  },
  "language_info": {
   "codemirror_mode": {
    "name": "ipython",
    "version": 3
   },
   "file_extension": ".py",
   "mimetype": "text/x-python",
   "name": "python",
   "nbconvert_exporter": "python",
   "pygments_lexer": "ipython3",
   "version": "3.13.5"
  }
 },
 "nbformat": 4,
 "nbformat_minor": 5
}
